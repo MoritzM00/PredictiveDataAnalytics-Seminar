{
 "cells": [
  {
   "cell_type": "markdown",
   "metadata": {},
   "source": [
    "# Setup notebook\n",
    "\n",
    "**Important: Please make sure that you can execute this notebook without error BEFORE the workshop!**\n",
    "\n",
    "This notebook is to check whether all the packages for the ML tutorials are installed and to download all the required datasets.\n",
    "\n",
    "To install Anaconda, please follow the instructions in the Email.\n",
    "\n",
    "To use this notebook, click on a cell and press the play button above or click `shift` + `Enter`.\n",
    "\n",
    "Should the following message appear: \n",
    "\n",
    "```\n",
    "ModuleNotFoundError: No module named 'keras'\n",
    "```\n",
    "\n",
    "simply type in your command line: \n",
    "\n",
    "```\n",
    "conda install keras\n",
    "```"
   ]
  },
  {
   "cell_type": "code",
   "execution_count": null,
   "metadata": {},
   "outputs": [],
   "source": [
    "# Make sure we are using Python 3\n",
    "import sys\n",
    "\n",
    "assert sys.version_info[0] == 3, \"Must be using Python 3\""
   ]
  },
  {
   "cell_type": "code",
   "execution_count": null,
   "metadata": {},
   "outputs": [],
   "source": [
    "# Check if all packages are installed\n",
    "%matplotlib inline\n",
    "import os\n",
    "import numpy\n",
    "import matplotlib\n",
    "import keras\n",
    "import IPython\n",
    "import sklearn\n",
    "import pandas\n",
    "import seaborn\n",
    "\n",
    "import cartopy"
   ]
  },
  {
   "cell_type": "code",
   "execution_count": null,
   "metadata": {},
   "outputs": [],
   "source": [
    "# Make sure we are using the right Keras backend.\n",
    "assert keras.backend.backend() == \"tensorflow\", \"Keras backend should be Tensorflow.\""
   ]
  },
  {
   "cell_type": "markdown",
   "metadata": {},
   "source": [
    "## The End\n",
    "\n",
    "You are ready to go for the workshop."
   ]
  }
 ],
 "metadata": {
  "kernelspec": {
   "display_name": "Python 3",
   "language": "python",
   "name": "python3"
  },
  "language_info": {
   "codemirror_mode": {
    "name": "ipython",
    "version": 3
   },
   "file_extension": ".py",
   "mimetype": "text/x-python",
   "name": "python",
   "nbconvert_exporter": "python",
   "pygments_lexer": "ipython3",
   "version": "3.10.10"
  }
 },
 "nbformat": 4,
 "nbformat_minor": 2
}
